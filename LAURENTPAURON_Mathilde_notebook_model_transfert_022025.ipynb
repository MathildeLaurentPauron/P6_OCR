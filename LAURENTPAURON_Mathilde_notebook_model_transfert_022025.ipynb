{
 "cells": [
  {
   "cell_type": "code",
   "execution_count": null,
   "id": "fff5d6b2",
   "metadata": {},
   "outputs": [],
   "source": [
    "import torch\n",
    "torch.cuda.is_available()"
   ]
  },
  {
   "cell_type": "code",
   "execution_count": null,
   "id": "28fb2866",
   "metadata": {},
   "outputs": [],
   "source": [
    "import os\n",
    "import pandas as pd\n",
    "import matplotlib.pyplot as plt\n",
    "import seaborn as sns\n",
    "from PIL import Image\n",
    "import torch\n",
    "from torchvision import transforms\n",
    "from torch.utils.data import DataLoader, Dataset\n",
    "import numpy as np\n",
    "from utils import DogsDataset, preprocessing_transfert, data_augment_transfert"
   ]
  },
  {
   "cell_type": "code",
   "execution_count": null,
   "id": "cf70537c",
   "metadata": {},
   "outputs": [],
   "source": [
    "# 📂 Chargement des DataFrames sauvegardés\n",
    "df_train = pd.read_pickle(\"df_train.pkl\")\n",
    "df_test = pd.read_pickle(\"df_test.pkl\")"
   ]
  },
  {
   "cell_type": "code",
   "execution_count": null,
   "id": "5668136f",
   "metadata": {},
   "outputs": [],
   "source": [
    "preprocessing_transfert_train = DogsDataset(df_train, transforms=preprocessing_transfert)\n",
    "preprocessing_transfert_test = DogsDataset(df_test, transforms=preprocessing_transfert)"
   ]
  },
  {
   "cell_type": "code",
   "execution_count": null,
   "id": "a6833739",
   "metadata": {},
   "outputs": [],
   "source": [
    "augmentation_transfert_train = DogsDataset(df_train, transforms=data_augment_transfert)\n",
    "augmentation_transfert_test = DogsDataset(df_test, transforms=data_augment_transfert)"
   ]
  },
  {
   "cell_type": "code",
   "execution_count": null,
   "id": "1ff3283c",
   "metadata": {},
   "outputs": [],
   "source": [
    "from torch.utils.data import DataLoader\n",
    "from tqdm import tqdm\n",
    "\n",
    "# Assurez-vous que votre DataLoader est correctement configuré\n",
    "transfert_train_loader = DataLoader(preprocessing_transfert_train, batch_size=32, shuffle=True)\n",
    "transfert_test_loader = DataLoader(preprocessing_transfert_test, batch_size=32, shuffle=False)"
   ]
  },
  {
   "cell_type": "code",
   "execution_count": null,
   "id": "08ae21cb",
   "metadata": {},
   "outputs": [
    {
     "name": "stdout",
     "output_type": "stream",
     "text": [
      "Taille du batch : torch.Size([32, 3, 224, 224])\n"
     ]
    }
   ],
   "source": [
    "# Récupérer un batch d'images\n",
    "data_iter = iter(transfert_train_loader)\n",
    "images, labels = next(data_iter)\n",
    "\n",
    "# Vérifier la taille des images\n",
    "print(f\"Taille du batch : {images.shape}\")  # Doit être (batch_size, 3, 224, 224)"
   ]
  },
  {
   "cell_type": "code",
   "execution_count": null,
   "id": "7f2f10ee",
   "metadata": {},
   "outputs": [
    {
     "name": "stderr",
     "output_type": "stream",
     "text": [
      "c:\\Users\\mathi\\miniconda3\\envs\\pytorch\\Lib\\site-packages\\torchvision\\models\\_utils.py:208: UserWarning: The parameter 'pretrained' is deprecated since 0.13 and may be removed in the future, please use 'weights' instead.\n",
      "  warnings.warn(\n",
      "c:\\Users\\mathi\\miniconda3\\envs\\pytorch\\Lib\\site-packages\\torchvision\\models\\_utils.py:223: UserWarning: Arguments other than a weight enum or `None` for 'weights' are deprecated since 0.13 and may be removed in the future. The current behavior is equivalent to passing `weights=VGG16_Weights.IMAGENET1K_V1`. You can also use `weights=VGG16_Weights.DEFAULT` to get the most up-to-date weights.\n",
      "  warnings.warn(msg)\n"
     ]
    }
   ],
   "source": [
    "import torch\n",
    "import torch.nn as nn\n",
    "import torch.optim as optim\n",
    "from torchvision import models, transforms\n",
    "from torch.utils.data import DataLoader, Dataset\n",
    "from torchvision.datasets import ImageFolder\n",
    "\n",
    "# 📌 Charger VGG16 pré-entraîné\n",
    "device = torch.device(\"cuda\" if torch.cuda.is_available() else \"cpu\")\n",
    "model_transfert = models.vgg16(pretrained=True)\n",
    "\n",
    "# 🔄 Modifier la dernière couche (10 classes)\n",
    "num_classes = 10\n",
    "model_transfert.classifier[6] = nn.Linear(in_features=4096, out_features=num_classes)\n",
    "\n",
    "# ⚙️ Geler les couches convolutionnelles\n",
    "for param in model_transfert.features.parameters():\n",
    "    param.requires_grad = False\n",
    "\n",
    "model_transfert = model_transfert.to(device)\n",
    "\n",
    "# 🎯 Définir la fonction de perte et l'optimiseur\n",
    "criterion = nn.CrossEntropyLoss()\n",
    "optimizer = optim.Adam(model_transfert.classifier.parameters(), lr=0.0001)\n"
   ]
  },
  {
   "cell_type": "code",
   "execution_count": null,
   "id": "73601389",
   "metadata": {},
   "outputs": [
    {
     "name": "stderr",
     "output_type": "stream",
     "text": [
      "Epoch 1/20: 100%|██████████| 56/56 [00:15<00:00,  3.64batch/s, loss=0.567]\n"
     ]
    },
    {
     "name": "stdout",
     "output_type": "stream",
     "text": [
      "Epoch 1/20, Loss: 0.5674\n",
      "Validation Loss: 0.2224, Accuracy: 91.33%\n",
      "✅ Nouveau meilleur modèle sauvegardé à l'epoch 1 (accuracy = 91.3333)\n"
     ]
    },
    {
     "name": "stderr",
     "output_type": "stream",
     "text": [
      "Epoch 2/20: 100%|██████████| 56/56 [00:15<00:00,  3.62batch/s, loss=0.113]\n"
     ]
    },
    {
     "name": "stdout",
     "output_type": "stream",
     "text": [
      "Epoch 2/20, Loss: 0.1129\n",
      "Validation Loss: 0.2153, Accuracy: 93.33%\n",
      "✅ Nouveau meilleur modèle sauvegardé à l'epoch 2 (accuracy = 93.3333)\n"
     ]
    },
    {
     "name": "stderr",
     "output_type": "stream",
     "text": [
      "Epoch 3/20: 100%|██████████| 56/56 [00:15<00:00,  3.67batch/s, loss=0.0297]\n"
     ]
    },
    {
     "name": "stdout",
     "output_type": "stream",
     "text": [
      "Epoch 3/20, Loss: 0.0297\n",
      "Validation Loss: 0.2614, Accuracy: 92.67%\n"
     ]
    },
    {
     "name": "stderr",
     "output_type": "stream",
     "text": [
      "Epoch 4/20: 100%|██████████| 56/56 [00:15<00:00,  3.71batch/s, loss=0.0162]\n"
     ]
    },
    {
     "name": "stdout",
     "output_type": "stream",
     "text": [
      "Epoch 4/20, Loss: 0.0162\n",
      "Validation Loss: 0.2082, Accuracy: 92.67%\n"
     ]
    },
    {
     "name": "stderr",
     "output_type": "stream",
     "text": [
      "Epoch 5/20: 100%|██████████| 56/56 [00:15<00:00,  3.71batch/s, loss=0.0128]\n"
     ]
    },
    {
     "name": "stdout",
     "output_type": "stream",
     "text": [
      "Epoch 5/20, Loss: 0.0128\n",
      "Validation Loss: 0.3032, Accuracy: 92.67%\n"
     ]
    },
    {
     "name": "stderr",
     "output_type": "stream",
     "text": [
      "Epoch 6/20: 100%|██████████| 56/56 [00:15<00:00,  3.72batch/s, loss=0.00689]\n"
     ]
    },
    {
     "name": "stdout",
     "output_type": "stream",
     "text": [
      "Epoch 6/20, Loss: 0.0069\n",
      "Validation Loss: 0.3027, Accuracy: 92.67%\n"
     ]
    },
    {
     "name": "stderr",
     "output_type": "stream",
     "text": [
      "Epoch 7/20: 100%|██████████| 56/56 [00:15<00:00,  3.68batch/s, loss=0.00889]\n"
     ]
    },
    {
     "name": "stdout",
     "output_type": "stream",
     "text": [
      "Epoch 7/20, Loss: 0.0089\n",
      "Validation Loss: 0.3533, Accuracy: 90.00%\n"
     ]
    },
    {
     "name": "stderr",
     "output_type": "stream",
     "text": [
      "Epoch 8/20: 100%|██████████| 56/56 [00:15<00:00,  3.61batch/s, loss=0.00738]\n"
     ]
    },
    {
     "name": "stdout",
     "output_type": "stream",
     "text": [
      "Epoch 8/20, Loss: 0.0074\n",
      "Validation Loss: 0.2968, Accuracy: 92.00%\n"
     ]
    },
    {
     "name": "stderr",
     "output_type": "stream",
     "text": [
      "Epoch 9/20: 100%|██████████| 56/56 [00:15<00:00,  3.68batch/s, loss=0.00451] \n"
     ]
    },
    {
     "name": "stdout",
     "output_type": "stream",
     "text": [
      "Epoch 9/20, Loss: 0.0045\n",
      "Validation Loss: 0.4641, Accuracy: 91.33%\n"
     ]
    },
    {
     "name": "stderr",
     "output_type": "stream",
     "text": [
      "Epoch 10/20: 100%|██████████| 56/56 [00:15<00:00,  3.68batch/s, loss=0.0057] \n"
     ]
    },
    {
     "name": "stdout",
     "output_type": "stream",
     "text": [
      "Epoch 10/20, Loss: 0.0057\n",
      "Validation Loss: 0.4827, Accuracy: 92.00%\n"
     ]
    },
    {
     "name": "stderr",
     "output_type": "stream",
     "text": [
      "Epoch 11/20: 100%|██████████| 56/56 [00:15<00:00,  3.66batch/s, loss=0.00366]\n"
     ]
    },
    {
     "name": "stdout",
     "output_type": "stream",
     "text": [
      "Epoch 11/20, Loss: 0.0037\n",
      "Validation Loss: 0.4675, Accuracy: 92.00%\n"
     ]
    },
    {
     "name": "stderr",
     "output_type": "stream",
     "text": [
      "Epoch 12/20: 100%|██████████| 56/56 [00:15<00:00,  3.65batch/s, loss=0.00107] \n"
     ]
    },
    {
     "name": "stdout",
     "output_type": "stream",
     "text": [
      "Epoch 12/20, Loss: 0.0011\n",
      "Validation Loss: 0.4857, Accuracy: 90.67%\n"
     ]
    },
    {
     "name": "stderr",
     "output_type": "stream",
     "text": [
      "Epoch 13/20: 100%|██████████| 56/56 [00:15<00:00,  3.64batch/s, loss=0.000603]\n"
     ]
    },
    {
     "name": "stdout",
     "output_type": "stream",
     "text": [
      "Epoch 13/20, Loss: 0.0006\n",
      "Validation Loss: 0.5080, Accuracy: 92.67%\n"
     ]
    },
    {
     "name": "stderr",
     "output_type": "stream",
     "text": [
      "Epoch 14/20: 100%|██████████| 56/56 [00:15<00:00,  3.68batch/s, loss=0.000387]\n"
     ]
    },
    {
     "name": "stdout",
     "output_type": "stream",
     "text": [
      "Epoch 14/20, Loss: 0.0004\n",
      "Validation Loss: 0.4930, Accuracy: 91.33%\n"
     ]
    },
    {
     "name": "stderr",
     "output_type": "stream",
     "text": [
      "Epoch 15/20: 100%|██████████| 56/56 [00:15<00:00,  3.65batch/s, loss=0.000256]\n"
     ]
    },
    {
     "name": "stdout",
     "output_type": "stream",
     "text": [
      "Epoch 15/20, Loss: 0.0003\n",
      "Validation Loss: 0.4658, Accuracy: 92.67%\n"
     ]
    },
    {
     "name": "stderr",
     "output_type": "stream",
     "text": [
      "Epoch 16/20: 100%|██████████| 56/56 [00:15<00:00,  3.64batch/s, loss=0.0046]  \n"
     ]
    },
    {
     "name": "stdout",
     "output_type": "stream",
     "text": [
      "Epoch 16/20, Loss: 0.0046\n",
      "Validation Loss: 0.5256, Accuracy: 90.00%\n"
     ]
    },
    {
     "name": "stderr",
     "output_type": "stream",
     "text": [
      "Epoch 17/20: 100%|██████████| 56/56 [00:15<00:00,  3.69batch/s, loss=0.0229] \n"
     ]
    },
    {
     "name": "stdout",
     "output_type": "stream",
     "text": [
      "Epoch 17/20, Loss: 0.0229\n",
      "Validation Loss: 0.6425, Accuracy: 90.00%\n"
     ]
    },
    {
     "name": "stderr",
     "output_type": "stream",
     "text": [
      "Epoch 18/20: 100%|██████████| 56/56 [00:15<00:00,  3.67batch/s, loss=0.00966]\n"
     ]
    },
    {
     "name": "stdout",
     "output_type": "stream",
     "text": [
      "Epoch 18/20, Loss: 0.0097\n",
      "Validation Loss: 0.4835, Accuracy: 90.00%\n"
     ]
    },
    {
     "name": "stderr",
     "output_type": "stream",
     "text": [
      "Epoch 19/20: 100%|██████████| 56/56 [00:15<00:00,  3.67batch/s, loss=0.0242] \n"
     ]
    },
    {
     "name": "stdout",
     "output_type": "stream",
     "text": [
      "Epoch 19/20, Loss: 0.0242\n",
      "Validation Loss: 0.4755, Accuracy: 91.33%\n"
     ]
    },
    {
     "name": "stderr",
     "output_type": "stream",
     "text": [
      "Epoch 20/20: 100%|██████████| 56/56 [00:15<00:00,  3.66batch/s, loss=0.0359] \n"
     ]
    },
    {
     "name": "stdout",
     "output_type": "stream",
     "text": [
      "Epoch 20/20, Loss: 0.0359\n",
      "Validation Loss: 0.8938, Accuracy: 90.00%\n",
      "\n",
      "✅ Meilleur modèle obtenu à l'epoch 2 avec accuracy = 93.3333\n"
     ]
    }
   ],
   "source": [
    "# 🚀 Entraînement du modèle\n",
    "num_epochs = 20\n",
    "\n",
    "# Dossier de sauvegarde\n",
    "checkpoint_dir = \"./checkpoints\"\n",
    "os.makedirs(checkpoint_dir, exist_ok=True)\n",
    "\n",
    "# Initialisation\n",
    "best_accuracy = -float('inf')  # ou float('inf') pour suivre la loss\n",
    "best_epoch = -1\n",
    "\n",
    "for epoch in range(num_epochs):\n",
    "    model_transfert.train()\n",
    "    train_loss = 0.0\n",
    "\n",
    "    with tqdm(transfert_train_loader, desc=f\"Epoch {epoch+1}/{num_epochs}\", unit=\"batch\") as tepoch:\n",
    "      for inputs, labels in tepoch:\n",
    "        inputs = inputs.to(device)\n",
    "        labels = labels.to(device) if isinstance(labels, torch.Tensor) else torch.tensor(labels, dtype=torch.long, device=device)\n",
    "\n",
    "        optimizer.zero_grad()  # Remet à zéro les gradients de l'optimiseur\n",
    "\n",
    "        outputs = model_transfert(inputs)\n",
    "        loss = criterion(outputs, labels)\n",
    "        loss.backward()\n",
    "        optimizer.step()\n",
    "\n",
    "        train_loss += loss.item()\n",
    "        _, predicted = outputs.max(1)\n",
    "        tepoch.set_postfix(loss=train_loss / (tepoch.n + 1))\n",
    "\n",
    "    print(f\"Epoch {epoch+1}/{num_epochs}, Loss: {train_loss/len(transfert_train_loader):.4f}\")\n",
    "\n",
    "    # 🔎 Évaluation\n",
    "    model_transfert.eval()\n",
    "    val_loss = 0.0\n",
    "    correct = 0\n",
    "    total = 0\n",
    "\n",
    "    with torch.no_grad():\n",
    "        for inputs, labels in transfert_test_loader:\n",
    "          inputs = inputs.to(device)\n",
    "          labels = labels.to(device) if isinstance(labels, torch.Tensor) else torch.tensor(labels, dtype=torch.long, device=device)\n",
    "\n",
    "          outputs = model_transfert(inputs)\n",
    "          loss = criterion(outputs, labels)\n",
    "\n",
    "          val_loss += loss.item()\n",
    "          _, predicted = outputs.max(1)\n",
    "          correct += (predicted == labels).sum().item()\n",
    "          total += labels.size(0)\n",
    "\n",
    "    val_accuracy = 100 * correct / total\n",
    "    print(f\"Validation Loss: {val_loss / len(transfert_test_loader):.4f}, Accuracy: {val_accuracy:.2f}%\")\n",
    "\n",
    "    # Sauvegarde si le modèle est meilleur\n",
    "    if val_accuracy > best_accuracy:\n",
    "        best_accuracy = val_accuracy\n",
    "        best_epoch = epoch + 1\n",
    "\n",
    "        torch.save(model_transfert.state_dict(), os.path.join(checkpoint_dir, \"best_model_transfert.pth\"))\n",
    "        print(f\"✅ Nouveau meilleur modèle sauvegardé à l'epoch {best_epoch} (accuracy = {best_accuracy:.4f})\")\n",
    "\n",
    "# Info finale\n",
    "print(f\"\\n✅ Meilleur modèle obtenu à l'epoch {best_epoch} avec accuracy = {best_accuracy:.4f}\")"
   ]
  },
  {
   "cell_type": "code",
   "execution_count": null,
   "id": "8e5e41b1",
   "metadata": {},
   "outputs": [],
   "source": [
    "# Assurez-vous que votre DataLoader est correctement configuré\n",
    "transfert_augment_train_loader = DataLoader(augmentation_transfert_train, batch_size=32, shuffle=True)\n",
    "transfert_augment_test_loader = DataLoader(augmentation_transfert_test, batch_size=32, shuffle=False)"
   ]
  },
  {
   "cell_type": "code",
   "execution_count": null,
   "id": "988dfe8e",
   "metadata": {},
   "outputs": [],
   "source": [
    "import torch\n",
    "import torch.nn as nn\n",
    "import torch.optim as optim\n",
    "from torchvision import models, transforms\n",
    "from torch.utils.data import DataLoader, Dataset\n",
    "from torchvision.datasets import ImageFolder\n",
    "\n",
    "# 📌 Charger VGG16 pré-entraîné\n",
    "device = torch.device(\"cuda\" if torch.cuda.is_available() else \"cpu\")\n",
    "model_transfert_augment = models.vgg16(pretrained=True)\n",
    "\n",
    "# 🔄 Modifier la dernière couche (10 classes)\n",
    "num_classes = 10\n",
    "model_transfert_augment.classifier[6] = nn.Linear(in_features=4096, out_features=num_classes)\n",
    "\n",
    "# ⚙️ Geler les couches convolutionnelles\n",
    "for param in model_transfert_augment.features.parameters():\n",
    "    param.requires_grad = False\n",
    "\n",
    "model_transfert_augment = model_transfert_augment.to(device)\n",
    "\n",
    "# 🎯 Définir la fonction de perte et l'optimiseur\n",
    "criterion = nn.CrossEntropyLoss()\n",
    "optimizer = optim.Adam(model_transfert_augment.classifier.parameters(), lr=0.0001)\n"
   ]
  },
  {
   "cell_type": "code",
   "execution_count": null,
   "id": "cfa080b2",
   "metadata": {},
   "outputs": [
    {
     "name": "stderr",
     "output_type": "stream",
     "text": [
      "Epoch 1/20: 100%|██████████| 56/56 [00:16<00:00,  3.48batch/s, loss=0.616]\n"
     ]
    },
    {
     "name": "stdout",
     "output_type": "stream",
     "text": [
      "Epoch 1/20, Loss: 0.6156\n",
      "Validation Loss: 0.2483, Accuracy: 92.00%\n",
      "✅ Nouveau meilleur modèle sauvegardé à l'epoch 1 (accuracy = 92.0000)\n"
     ]
    },
    {
     "name": "stderr",
     "output_type": "stream",
     "text": [
      "Epoch 2/20: 100%|██████████| 56/56 [00:16<00:00,  3.42batch/s, loss=0.208]\n"
     ]
    },
    {
     "name": "stdout",
     "output_type": "stream",
     "text": [
      "Epoch 2/20, Loss: 0.2082\n",
      "Validation Loss: 0.2749, Accuracy: 92.00%\n"
     ]
    },
    {
     "name": "stderr",
     "output_type": "stream",
     "text": [
      "Epoch 3/20: 100%|██████████| 56/56 [00:16<00:00,  3.46batch/s, loss=0.145]\n"
     ]
    },
    {
     "name": "stdout",
     "output_type": "stream",
     "text": [
      "Epoch 3/20, Loss: 0.1451\n",
      "Validation Loss: 0.2810, Accuracy: 92.00%\n"
     ]
    },
    {
     "name": "stderr",
     "output_type": "stream",
     "text": [
      "Epoch 4/20: 100%|██████████| 56/56 [00:16<00:00,  3.44batch/s, loss=0.142] \n"
     ]
    },
    {
     "name": "stdout",
     "output_type": "stream",
     "text": [
      "Epoch 4/20, Loss: 0.1420\n",
      "Validation Loss: 0.2240, Accuracy: 93.33%\n",
      "✅ Nouveau meilleur modèle sauvegardé à l'epoch 4 (accuracy = 93.3333)\n"
     ]
    },
    {
     "name": "stderr",
     "output_type": "stream",
     "text": [
      "Epoch 5/20: 100%|██████████| 56/56 [00:16<00:00,  3.46batch/s, loss=0.0973]\n"
     ]
    },
    {
     "name": "stdout",
     "output_type": "stream",
     "text": [
      "Epoch 5/20, Loss: 0.0973\n",
      "Validation Loss: 0.3234, Accuracy: 92.00%\n"
     ]
    },
    {
     "name": "stderr",
     "output_type": "stream",
     "text": [
      "Epoch 6/20: 100%|██████████| 56/56 [00:16<00:00,  3.45batch/s, loss=0.0789]\n"
     ]
    },
    {
     "name": "stdout",
     "output_type": "stream",
     "text": [
      "Epoch 6/20, Loss: 0.0789\n",
      "Validation Loss: 0.3536, Accuracy: 91.33%\n"
     ]
    },
    {
     "name": "stderr",
     "output_type": "stream",
     "text": [
      "Epoch 7/20: 100%|██████████| 56/56 [00:16<00:00,  3.43batch/s, loss=0.0593]\n"
     ]
    },
    {
     "name": "stdout",
     "output_type": "stream",
     "text": [
      "Epoch 7/20, Loss: 0.0593\n",
      "Validation Loss: 0.4157, Accuracy: 90.00%\n"
     ]
    },
    {
     "name": "stderr",
     "output_type": "stream",
     "text": [
      "Epoch 8/20: 100%|██████████| 56/56 [00:16<00:00,  3.41batch/s, loss=0.0559]\n"
     ]
    },
    {
     "name": "stdout",
     "output_type": "stream",
     "text": [
      "Epoch 8/20, Loss: 0.0559\n",
      "Validation Loss: 0.4139, Accuracy: 89.33%\n"
     ]
    },
    {
     "name": "stderr",
     "output_type": "stream",
     "text": [
      "Epoch 9/20: 100%|██████████| 56/56 [00:16<00:00,  3.48batch/s, loss=0.068] \n"
     ]
    },
    {
     "name": "stdout",
     "output_type": "stream",
     "text": [
      "Epoch 9/20, Loss: 0.0680\n",
      "Validation Loss: 0.4626, Accuracy: 89.33%\n"
     ]
    },
    {
     "name": "stderr",
     "output_type": "stream",
     "text": [
      "Epoch 10/20: 100%|██████████| 56/56 [00:16<00:00,  3.32batch/s, loss=0.0516]\n"
     ]
    },
    {
     "name": "stdout",
     "output_type": "stream",
     "text": [
      "Epoch 10/20, Loss: 0.0516\n",
      "Validation Loss: 0.4939, Accuracy: 92.67%\n"
     ]
    },
    {
     "name": "stderr",
     "output_type": "stream",
     "text": [
      "Epoch 11/20: 100%|██████████| 56/56 [00:17<00:00,  3.25batch/s, loss=0.0387]\n"
     ]
    },
    {
     "name": "stdout",
     "output_type": "stream",
     "text": [
      "Epoch 11/20, Loss: 0.0387\n",
      "Validation Loss: 0.5859, Accuracy: 92.67%\n"
     ]
    },
    {
     "name": "stderr",
     "output_type": "stream",
     "text": [
      "Epoch 12/20: 100%|██████████| 56/56 [00:17<00:00,  3.23batch/s, loss=0.0611]\n"
     ]
    },
    {
     "name": "stdout",
     "output_type": "stream",
     "text": [
      "Epoch 12/20, Loss: 0.0611\n",
      "Validation Loss: 0.4596, Accuracy: 90.00%\n"
     ]
    },
    {
     "name": "stderr",
     "output_type": "stream",
     "text": [
      "Epoch 13/20: 100%|██████████| 56/56 [00:17<00:00,  3.24batch/s, loss=0.0371] \n"
     ]
    },
    {
     "name": "stdout",
     "output_type": "stream",
     "text": [
      "Epoch 13/20, Loss: 0.0371\n",
      "Validation Loss: 0.4193, Accuracy: 91.33%\n"
     ]
    },
    {
     "name": "stderr",
     "output_type": "stream",
     "text": [
      "Epoch 14/20: 100%|██████████| 56/56 [00:17<00:00,  3.22batch/s, loss=0.0392]\n"
     ]
    },
    {
     "name": "stdout",
     "output_type": "stream",
     "text": [
      "Epoch 14/20, Loss: 0.0392\n",
      "Validation Loss: 0.4868, Accuracy: 91.33%\n"
     ]
    },
    {
     "name": "stderr",
     "output_type": "stream",
     "text": [
      "Epoch 15/20: 100%|██████████| 56/56 [00:17<00:00,  3.16batch/s, loss=0.0356]\n"
     ]
    },
    {
     "name": "stdout",
     "output_type": "stream",
     "text": [
      "Epoch 15/20, Loss: 0.0356\n",
      "Validation Loss: 0.2941, Accuracy: 93.33%\n"
     ]
    },
    {
     "name": "stderr",
     "output_type": "stream",
     "text": [
      "Epoch 16/20: 100%|██████████| 56/56 [00:17<00:00,  3.21batch/s, loss=0.0507]\n"
     ]
    },
    {
     "name": "stdout",
     "output_type": "stream",
     "text": [
      "Epoch 16/20, Loss: 0.0507\n",
      "Validation Loss: 0.5033, Accuracy: 92.67%\n"
     ]
    },
    {
     "name": "stderr",
     "output_type": "stream",
     "text": [
      "Epoch 17/20: 100%|██████████| 56/56 [00:17<00:00,  3.29batch/s, loss=0.0345]\n"
     ]
    },
    {
     "name": "stdout",
     "output_type": "stream",
     "text": [
      "Epoch 17/20, Loss: 0.0345\n",
      "Validation Loss: 0.6437, Accuracy: 90.67%\n"
     ]
    },
    {
     "name": "stderr",
     "output_type": "stream",
     "text": [
      "Epoch 18/20: 100%|██████████| 56/56 [00:16<00:00,  3.31batch/s, loss=0.0319]\n"
     ]
    },
    {
     "name": "stdout",
     "output_type": "stream",
     "text": [
      "Epoch 18/20, Loss: 0.0319\n",
      "Validation Loss: 0.6224, Accuracy: 90.00%\n"
     ]
    },
    {
     "name": "stderr",
     "output_type": "stream",
     "text": [
      "Epoch 19/20: 100%|██████████| 56/56 [00:17<00:00,  3.24batch/s, loss=0.0224]\n"
     ]
    },
    {
     "name": "stdout",
     "output_type": "stream",
     "text": [
      "Epoch 19/20, Loss: 0.0224\n",
      "Validation Loss: 0.6409, Accuracy: 87.33%\n"
     ]
    },
    {
     "name": "stderr",
     "output_type": "stream",
     "text": [
      "Epoch 20/20: 100%|██████████| 56/56 [00:17<00:00,  3.27batch/s, loss=0.038] \n"
     ]
    },
    {
     "name": "stdout",
     "output_type": "stream",
     "text": [
      "Epoch 20/20, Loss: 0.0380\n",
      "Validation Loss: 0.5215, Accuracy: 90.00%\n",
      "\n",
      "✅ Meilleur modèle obtenu à l'epoch 4 avec accuracy = 93.3333\n"
     ]
    }
   ],
   "source": [
    "# 🚀 Entraînement du modèle\n",
    "num_epochs = 20\n",
    "\n",
    "# Dossier de sauvegarde\n",
    "checkpoint_dir = \"./checkpoints\"\n",
    "os.makedirs(checkpoint_dir, exist_ok=True)\n",
    "\n",
    "# Initialisation\n",
    "best_accuracy = -float('inf')  # ou float('inf') pour suivre la loss\n",
    "best_epoch = -1\n",
    "\n",
    "\n",
    "for epoch in range(num_epochs):\n",
    "    model_transfert_augment.train()\n",
    "    train_loss = 0.0\n",
    "\n",
    "    with tqdm(transfert_augment_train_loader, desc=f\"Epoch {epoch+1}/{num_epochs}\", unit=\"batch\") as tepoch:\n",
    "      for inputs, labels in tepoch:\n",
    "        inputs = inputs.to(device)\n",
    "        labels = labels.to(device) if isinstance(labels, torch.Tensor) else torch.tensor(labels, dtype=torch.long, device=device)\n",
    "\n",
    "        optimizer.zero_grad()  # Remet à zéro les gradients de l'optimiseur\n",
    "\n",
    "        outputs = model_transfert_augment(inputs)\n",
    "        loss = criterion(outputs, labels)\n",
    "        loss.backward()\n",
    "        optimizer.step()\n",
    "\n",
    "        train_loss += loss.item()\n",
    "        _, predicted = outputs.max(1)\n",
    "        tepoch.set_postfix(loss=train_loss / (tepoch.n + 1))\n",
    "\n",
    "    print(f\"Epoch {epoch+1}/{num_epochs}, Loss: {train_loss/len(transfert_augment_train_loader):.4f}\")\n",
    "\n",
    "    # 🔎 Évaluation\n",
    "    model_transfert_augment.eval()\n",
    "    val_loss = 0.0\n",
    "    correct = 0\n",
    "    total = 0\n",
    "\n",
    "    with torch.no_grad():\n",
    "        for inputs, labels in transfert_augment_test_loader:\n",
    "          inputs = inputs.to(device)\n",
    "          labels = labels.to(device) if isinstance(labels, torch.Tensor) else torch.tensor(labels, dtype=torch.long, device=device)\n",
    "\n",
    "          outputs = model_transfert_augment(inputs)\n",
    "          loss = criterion(outputs, labels)\n",
    "\n",
    "          val_loss += loss.item()\n",
    "          _, predicted = outputs.max(1)\n",
    "          correct += (predicted == labels).sum().item()\n",
    "          total += labels.size(0)\n",
    "\n",
    "    val_accuracy = 100 * correct / total\n",
    "    print(f\"Validation Loss: {val_loss / len(transfert_augment_test_loader):.4f}, Accuracy: {val_accuracy:.2f}%\")\n",
    "\n",
    "    # Sauvegarde si le modèle est meilleur\n",
    "    if val_accuracy > best_accuracy:\n",
    "        best_accuracy = val_accuracy\n",
    "        best_epoch = epoch + 1\n",
    "\n",
    "        torch.save(model_transfert_augment.state_dict(), os.path.join(checkpoint_dir, \"best_model_transfert_augment.pth\"))\n",
    "        print(f\"✅ Nouveau meilleur modèle sauvegardé à l'epoch {best_epoch} (accuracy = {best_accuracy:.4f})\")\n",
    "\n",
    "# Info finale\n",
    "print(f\"\\n✅ Meilleur modèle obtenu à l'epoch {best_epoch} avec accuracy = {best_accuracy:.4f}\")"
   ]
  }
 ],
 "metadata": {
  "kernelspec": {
   "display_name": "pytorch",
   "language": "python",
   "name": "python3"
  },
  "language_info": {
   "name": "python",
   "version": "3.11.11"
  }
 },
 "nbformat": 4,
 "nbformat_minor": 5
}
