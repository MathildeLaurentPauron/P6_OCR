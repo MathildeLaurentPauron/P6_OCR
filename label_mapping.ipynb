{
 "cells": [
  {
   "cell_type": "code",
   "execution_count": 3,
   "id": "15bfa58c",
   "metadata": {},
   "outputs": [],
   "source": [
    "import json\n",
    "\n",
    "# Ton dictionnaire de mapping\n",
    "label_mapping = {\n",
    "    \"n02085620\": 0, \"n02085782\": 1, \"n02085936\": 2, \"n02086079\": 3,\n",
    "    \"n02086240\": 4, \"n02086646\": 5, \"n02086910\": 6, \"n02087046\": 7,\n",
    "    \"n02087394\": 8, \"n02088094\": 9\n",
    "}\n",
    "\n",
    "# Inversion du mapping (ID numérique -> identifiant de race)\n",
    "id_to_breed = {v: k for k, v in label_mapping.items()}\n",
    "\n",
    "# Sauvegarde dans un fichier JSON\n",
    "with open(\"class_to_label.json\", \"w\") as f:\n",
    "    json.dump(id_to_breed, f)\n",
    "\n",
    "with open(\"label_mapping.json\", \"w\") as f:\n",
    "    json.dump(label_mapping, f)\n",
    "\n"
   ]
  },
  {
   "cell_type": "code",
   "execution_count": 4,
   "id": "856d1d50",
   "metadata": {},
   "outputs": [],
   "source": [
    "id_to_race = {\n",
    "    0: \"Chihuahua\",\n",
    "    1: \"Japanese Spaniel\",\n",
    "    2: \"Maltese Dog\",\n",
    "    3: \"Pekinese\",\n",
    "    4: \"Shih-Tzu\",\n",
    "    5: \"Blenheim Spaniel\",\n",
    "    6: \"Papillon\",\n",
    "    7: \"Toy Terrier\",\n",
    "    8: \"Rhodesian Ridgeback\",\n",
    "    9: \"Afghan Hound\"\n",
    "}\n",
    "\n",
    "# Convertir les clés en str pour le JSON\n",
    "id_to_race = {str(k): v for k, v in id_to_race.items()}\n",
    "\n",
    "with open(\"class_to_label.json\", \"w\") as f:\n",
    "    json.dump(id_to_race, f)\n"
   ]
  }
 ],
 "metadata": {
  "kernelspec": {
   "display_name": "pytorch",
   "language": "python",
   "name": "python3"
  },
  "language_info": {
   "codemirror_mode": {
    "name": "ipython",
    "version": 3
   },
   "file_extension": ".py",
   "mimetype": "text/x-python",
   "name": "python",
   "nbconvert_exporter": "python",
   "pygments_lexer": "ipython3",
   "version": "3.11.11"
  }
 },
 "nbformat": 4,
 "nbformat_minor": 5
}
