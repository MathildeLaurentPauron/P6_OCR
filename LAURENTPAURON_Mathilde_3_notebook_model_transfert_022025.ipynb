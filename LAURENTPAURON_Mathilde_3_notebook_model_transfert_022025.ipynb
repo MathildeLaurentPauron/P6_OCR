{
 "cells": [
  {
   "cell_type": "code",
   "execution_count": 1,
   "id": "fff5d6b2",
   "metadata": {},
   "outputs": [
    {
     "data": {
      "text/plain": [
       "True"
      ]
     },
     "execution_count": 1,
     "metadata": {},
     "output_type": "execute_result"
    }
   ],
   "source": [
    "import torch\n",
    "torch.cuda.is_available()"
   ]
  },
  {
   "cell_type": "code",
   "execution_count": 2,
   "id": "28fb2866",
   "metadata": {},
   "outputs": [],
   "source": [
    "import os\n",
    "import pandas as pd\n",
    "import matplotlib.pyplot as plt\n",
    "import seaborn as sns\n",
    "from PIL import Image\n",
    "import torch\n",
    "from torchvision import transforms\n",
    "from torch.utils.data import DataLoader, Dataset\n",
    "import numpy as np\n",
    "from utils import DogsDataset, preprocessing_transfert, data_augment_transfert"
   ]
  },
  {
   "cell_type": "code",
   "execution_count": 3,
   "id": "cf70537c",
   "metadata": {},
   "outputs": [],
   "source": [
    "# 📂 Chargement des DataFrames sauvegardés\n",
    "df_train = pd.read_pickle(\"df_train.pkl\")\n",
    "df_test = pd.read_pickle(\"df_test.pkl\")"
   ]
  },
  {
   "cell_type": "code",
   "execution_count": 4,
   "id": "5668136f",
   "metadata": {},
   "outputs": [],
   "source": [
    "preprocessing_transfert_train = DogsDataset(df_train, transforms=preprocessing_transfert)\n",
    "preprocessing_transfert_test = DogsDataset(df_test, transforms=preprocessing_transfert)"
   ]
  },
  {
   "cell_type": "code",
   "execution_count": 5,
   "id": "a6833739",
   "metadata": {},
   "outputs": [],
   "source": [
    "augmentation_transfert_train = DogsDataset(df_train, transforms=data_augment_transfert)\n",
    "augmentation_transfert_test = DogsDataset(df_test, transforms=data_augment_transfert)"
   ]
  },
  {
   "cell_type": "code",
   "execution_count": 6,
   "id": "1ff3283c",
   "metadata": {},
   "outputs": [],
   "source": [
    "from torch.utils.data import DataLoader\n",
    "from tqdm import tqdm\n",
    "\n",
    "# Assurez-vous que votre DataLoader est correctement configuré\n",
    "transfert_train_loader = DataLoader(preprocessing_transfert_train, batch_size=32, shuffle=True)\n",
    "transfert_test_loader = DataLoader(preprocessing_transfert_test, batch_size=32, shuffle=False)"
   ]
  },
  {
   "cell_type": "code",
   "execution_count": 7,
   "id": "08ae21cb",
   "metadata": {},
   "outputs": [
    {
     "name": "stdout",
     "output_type": "stream",
     "text": [
      "Taille du batch : torch.Size([32, 3, 224, 224])\n"
     ]
    }
   ],
   "source": [
    "# Récupérer un batch d'images\n",
    "data_iter = iter(transfert_train_loader)\n",
    "images, labels = next(data_iter)\n",
    "\n",
    "# Vérifier la taille des images\n",
    "print(f\"Taille du batch : {images.shape}\")  # Doit être (batch_size, 3, 224, 224)"
   ]
  },
  {
   "cell_type": "code",
   "execution_count": 8,
   "id": "7f2f10ee",
   "metadata": {},
   "outputs": [
    {
     "name": "stderr",
     "output_type": "stream",
     "text": [
      "c:\\Users\\mathi\\miniconda3\\envs\\pytorch\\Lib\\site-packages\\torchvision\\models\\_utils.py:208: UserWarning: The parameter 'pretrained' is deprecated since 0.13 and may be removed in the future, please use 'weights' instead.\n",
      "  warnings.warn(\n",
      "c:\\Users\\mathi\\miniconda3\\envs\\pytorch\\Lib\\site-packages\\torchvision\\models\\_utils.py:223: UserWarning: Arguments other than a weight enum or `None` for 'weights' are deprecated since 0.13 and may be removed in the future. The current behavior is equivalent to passing `weights=VGG16_Weights.IMAGENET1K_V1`. You can also use `weights=VGG16_Weights.DEFAULT` to get the most up-to-date weights.\n",
      "  warnings.warn(msg)\n"
     ]
    }
   ],
   "source": [
    "import torch\n",
    "import torch.nn as nn\n",
    "import torch.optim as optim\n",
    "from torchvision import models, transforms\n",
    "from torch.utils.data import DataLoader, Dataset\n",
    "from torchvision.datasets import ImageFolder\n",
    "\n",
    "# 📌 Charger VGG16 pré-entraîné\n",
    "device = torch.device(\"cuda\" if torch.cuda.is_available() else \"cpu\")\n",
    "model_transfert = models.vgg16(pretrained=True)\n",
    "\n",
    "# 🔄 Modifier la dernière couche (10 classes)\n",
    "num_classes = 10\n",
    "model_transfert.classifier[6] = nn.Linear(in_features=4096, out_features=num_classes)\n",
    "\n",
    "# ⚙️ Geler les couches convolutionnelles\n",
    "for param in model_transfert.features.parameters():\n",
    "    param.requires_grad = False\n",
    "\n",
    "model_transfert = model_transfert.to(device)\n",
    "\n",
    "# 🎯 Définir la fonction de perte et l'optimiseur\n",
    "criterion = nn.CrossEntropyLoss()\n",
    "optimizer = optim.Adam(model_transfert.classifier.parameters(), lr=0.0001)\n"
   ]
  },
  {
   "cell_type": "code",
   "execution_count": 9,
   "id": "73601389",
   "metadata": {},
   "outputs": [
    {
     "name": "stderr",
     "output_type": "stream",
     "text": [
      "Epoch 1/20: 100%|██████████| 56/56 [00:14<00:00,  3.75batch/s, loss=0.619]\n"
     ]
    },
    {
     "name": "stdout",
     "output_type": "stream",
     "text": [
      "Epoch 1/20, Loss: 0.6189\n",
      "Validation Loss: 0.2862, Accuracy: 92.00%\n",
      "✅ Nouveau meilleur modèle sauvegardé à l'epoch 1 (accuracy = 92.0000)\n"
     ]
    },
    {
     "name": "stderr",
     "output_type": "stream",
     "text": [
      "Epoch 2/20: 100%|██████████| 56/56 [00:14<00:00,  3.88batch/s, loss=0.0962]\n"
     ]
    },
    {
     "name": "stdout",
     "output_type": "stream",
     "text": [
      "Epoch 2/20, Loss: 0.0962\n",
      "Validation Loss: 0.2662, Accuracy: 92.67%\n",
      "✅ Nouveau meilleur modèle sauvegardé à l'epoch 2 (accuracy = 92.6667)\n"
     ]
    },
    {
     "name": "stderr",
     "output_type": "stream",
     "text": [
      "Epoch 3/20: 100%|██████████| 56/56 [00:14<00:00,  3.87batch/s, loss=0.0402]\n"
     ]
    },
    {
     "name": "stdout",
     "output_type": "stream",
     "text": [
      "Epoch 3/20, Loss: 0.0402\n",
      "Validation Loss: 0.2404, Accuracy: 93.33%\n",
      "✅ Nouveau meilleur modèle sauvegardé à l'epoch 3 (accuracy = 93.3333)\n"
     ]
    },
    {
     "name": "stderr",
     "output_type": "stream",
     "text": [
      "Epoch 4/20: 100%|██████████| 56/56 [00:14<00:00,  3.86batch/s, loss=0.0163]\n"
     ]
    },
    {
     "name": "stdout",
     "output_type": "stream",
     "text": [
      "Epoch 4/20, Loss: 0.0163\n",
      "Validation Loss: 0.2997, Accuracy: 93.33%\n"
     ]
    },
    {
     "name": "stderr",
     "output_type": "stream",
     "text": [
      "Epoch 5/20: 100%|██████████| 56/56 [00:14<00:00,  3.87batch/s, loss=0.0109] \n"
     ]
    },
    {
     "name": "stdout",
     "output_type": "stream",
     "text": [
      "Epoch 5/20, Loss: 0.0109\n",
      "Validation Loss: 0.2841, Accuracy: 94.00%\n",
      "✅ Nouveau meilleur modèle sauvegardé à l'epoch 5 (accuracy = 94.0000)\n"
     ]
    },
    {
     "name": "stderr",
     "output_type": "stream",
     "text": [
      "Epoch 6/20: 100%|██████████| 56/56 [00:14<00:00,  3.84batch/s, loss=0.00401]\n"
     ]
    },
    {
     "name": "stdout",
     "output_type": "stream",
     "text": [
      "Epoch 6/20, Loss: 0.0040\n",
      "Validation Loss: 0.4411, Accuracy: 92.00%\n"
     ]
    },
    {
     "name": "stderr",
     "output_type": "stream",
     "text": [
      "Epoch 7/20: 100%|██████████| 56/56 [00:14<00:00,  3.83batch/s, loss=0.00733]\n"
     ]
    },
    {
     "name": "stdout",
     "output_type": "stream",
     "text": [
      "Epoch 7/20, Loss: 0.0073\n",
      "Validation Loss: 0.3902, Accuracy: 93.33%\n"
     ]
    },
    {
     "name": "stderr",
     "output_type": "stream",
     "text": [
      "Epoch 8/20: 100%|██████████| 56/56 [00:14<00:00,  3.84batch/s, loss=0.00448]\n"
     ]
    },
    {
     "name": "stdout",
     "output_type": "stream",
     "text": [
      "Epoch 8/20, Loss: 0.0045\n",
      "Validation Loss: 0.4404, Accuracy: 93.33%\n"
     ]
    },
    {
     "name": "stderr",
     "output_type": "stream",
     "text": [
      "Epoch 9/20: 100%|██████████| 56/56 [00:14<00:00,  3.82batch/s, loss=0.00916]\n"
     ]
    },
    {
     "name": "stdout",
     "output_type": "stream",
     "text": [
      "Epoch 9/20, Loss: 0.0092\n",
      "Validation Loss: 0.4660, Accuracy: 91.33%\n"
     ]
    },
    {
     "name": "stderr",
     "output_type": "stream",
     "text": [
      "Epoch 10/20: 100%|██████████| 56/56 [00:14<00:00,  3.83batch/s, loss=0.0164]\n"
     ]
    },
    {
     "name": "stdout",
     "output_type": "stream",
     "text": [
      "Epoch 10/20, Loss: 0.0164\n",
      "Validation Loss: 0.5345, Accuracy: 92.00%\n"
     ]
    },
    {
     "name": "stderr",
     "output_type": "stream",
     "text": [
      "Epoch 11/20: 100%|██████████| 56/56 [00:14<00:00,  3.82batch/s, loss=0.00354]\n"
     ]
    },
    {
     "name": "stdout",
     "output_type": "stream",
     "text": [
      "Epoch 11/20, Loss: 0.0035\n",
      "Validation Loss: 0.5339, Accuracy: 92.67%\n"
     ]
    },
    {
     "name": "stderr",
     "output_type": "stream",
     "text": [
      "Epoch 12/20: 100%|██████████| 56/56 [00:14<00:00,  3.85batch/s, loss=0.0134] \n"
     ]
    },
    {
     "name": "stdout",
     "output_type": "stream",
     "text": [
      "Epoch 12/20, Loss: 0.0134\n",
      "Validation Loss: 0.5012, Accuracy: 92.00%\n"
     ]
    },
    {
     "name": "stderr",
     "output_type": "stream",
     "text": [
      "Epoch 13/20: 100%|██████████| 56/56 [00:14<00:00,  3.84batch/s, loss=0.0204]\n"
     ]
    },
    {
     "name": "stdout",
     "output_type": "stream",
     "text": [
      "Epoch 13/20, Loss: 0.0204\n",
      "Validation Loss: 0.6339, Accuracy: 90.67%\n"
     ]
    },
    {
     "name": "stderr",
     "output_type": "stream",
     "text": [
      "Epoch 14/20: 100%|██████████| 56/56 [00:14<00:00,  3.87batch/s, loss=0.0145]\n"
     ]
    },
    {
     "name": "stdout",
     "output_type": "stream",
     "text": [
      "Epoch 14/20, Loss: 0.0145\n",
      "Validation Loss: 0.5163, Accuracy: 92.67%\n"
     ]
    },
    {
     "name": "stderr",
     "output_type": "stream",
     "text": [
      "Epoch 15/20: 100%|██████████| 56/56 [00:14<00:00,  3.84batch/s, loss=0.0395] \n"
     ]
    },
    {
     "name": "stdout",
     "output_type": "stream",
     "text": [
      "Epoch 15/20, Loss: 0.0395\n",
      "Validation Loss: 0.5130, Accuracy: 91.33%\n"
     ]
    },
    {
     "name": "stderr",
     "output_type": "stream",
     "text": [
      "Epoch 16/20: 100%|██████████| 56/56 [00:14<00:00,  3.86batch/s, loss=0.0338]\n"
     ]
    },
    {
     "name": "stdout",
     "output_type": "stream",
     "text": [
      "Epoch 16/20, Loss: 0.0338\n",
      "Validation Loss: 0.6497, Accuracy: 92.67%\n"
     ]
    },
    {
     "name": "stderr",
     "output_type": "stream",
     "text": [
      "Epoch 17/20: 100%|██████████| 56/56 [00:14<00:00,  3.84batch/s, loss=0.0142] \n"
     ]
    },
    {
     "name": "stdout",
     "output_type": "stream",
     "text": [
      "Epoch 17/20, Loss: 0.0142\n",
      "Validation Loss: 0.6898, Accuracy: 92.00%\n"
     ]
    },
    {
     "name": "stderr",
     "output_type": "stream",
     "text": [
      "Epoch 18/20: 100%|██████████| 56/56 [00:14<00:00,  3.86batch/s, loss=0.0019]  \n"
     ]
    },
    {
     "name": "stdout",
     "output_type": "stream",
     "text": [
      "Epoch 18/20, Loss: 0.0019\n",
      "Validation Loss: 0.6114, Accuracy: 90.67%\n"
     ]
    },
    {
     "name": "stderr",
     "output_type": "stream",
     "text": [
      "Epoch 19/20: 100%|██████████| 56/56 [00:14<00:00,  3.76batch/s, loss=0.0057] \n"
     ]
    },
    {
     "name": "stdout",
     "output_type": "stream",
     "text": [
      "Epoch 19/20, Loss: 0.0057\n",
      "Validation Loss: 1.2538, Accuracy: 84.67%\n"
     ]
    },
    {
     "name": "stderr",
     "output_type": "stream",
     "text": [
      "Epoch 20/20: 100%|██████████| 56/56 [00:14<00:00,  3.81batch/s, loss=0.023]  \n"
     ]
    },
    {
     "name": "stdout",
     "output_type": "stream",
     "text": [
      "Epoch 20/20, Loss: 0.0230\n",
      "Validation Loss: 0.8076, Accuracy: 88.00%\n",
      "\n",
      "✅ Meilleur modèle obtenu à l'epoch 5 avec accuracy = 94.0000\n"
     ]
    }
   ],
   "source": [
    "# 🚀 Entraînement du modèle\n",
    "num_epochs = 20\n",
    "\n",
    "# Dossier de sauvegarde\n",
    "checkpoint_dir = \"./checkpoints\"\n",
    "os.makedirs(checkpoint_dir, exist_ok=True)\n",
    "\n",
    "# Initialisation\n",
    "best_accuracy = -float('inf')  # ou float('inf') pour suivre la loss\n",
    "best_epoch = -1\n",
    "\n",
    "for epoch in range(num_epochs):\n",
    "    model_transfert.train()\n",
    "    train_loss = 0.0\n",
    "\n",
    "    with tqdm(transfert_train_loader, desc=f\"Epoch {epoch+1}/{num_epochs}\", unit=\"batch\") as tepoch:\n",
    "      for inputs, labels in tepoch:\n",
    "        inputs = inputs.to(device)\n",
    "        labels = labels.to(device) if isinstance(labels, torch.Tensor) else torch.tensor(labels, dtype=torch.long, device=device)\n",
    "\n",
    "        optimizer.zero_grad()  # Remet à zéro les gradients de l'optimiseur\n",
    "\n",
    "        outputs = model_transfert(inputs)\n",
    "        loss = criterion(outputs, labels)\n",
    "        loss.backward()\n",
    "        optimizer.step()\n",
    "\n",
    "        train_loss += loss.item()\n",
    "        _, predicted = outputs.max(1)\n",
    "        tepoch.set_postfix(loss=train_loss / (tepoch.n + 1))\n",
    "\n",
    "    print(f\"Epoch {epoch+1}/{num_epochs}, Loss: {train_loss/len(transfert_train_loader):.4f}\")\n",
    "\n",
    "    # 🔎 Évaluation\n",
    "    model_transfert.eval()\n",
    "    val_loss = 0.0\n",
    "    correct = 0\n",
    "    total = 0\n",
    "\n",
    "    with torch.no_grad():\n",
    "        for inputs, labels in transfert_test_loader:\n",
    "          inputs = inputs.to(device)\n",
    "          labels = labels.to(device) if isinstance(labels, torch.Tensor) else torch.tensor(labels, dtype=torch.long, device=device)\n",
    "\n",
    "          outputs = model_transfert(inputs)\n",
    "          loss = criterion(outputs, labels)\n",
    "\n",
    "          val_loss += loss.item()\n",
    "          _, predicted = outputs.max(1)\n",
    "          correct += (predicted == labels).sum().item()\n",
    "          total += labels.size(0)\n",
    "\n",
    "    val_accuracy = 100 * correct / total\n",
    "    print(f\"Validation Loss: {val_loss / len(transfert_test_loader):.4f}, Accuracy: {val_accuracy:.2f}%\")\n",
    "\n",
    "    # Sauvegarde si le modèle est meilleur\n",
    "    if val_accuracy > best_accuracy:\n",
    "        best_accuracy = val_accuracy\n",
    "        best_epoch = epoch + 1\n",
    "\n",
    "        torch.save(model_transfert.state_dict(), os.path.join(checkpoint_dir, \"best_model_transfert.pth\"))\n",
    "        print(f\"✅ Nouveau meilleur modèle sauvegardé à l'epoch {best_epoch} (accuracy = {best_accuracy:.4f})\")\n",
    "\n",
    "# Info finale\n",
    "print(f\"\\n✅ Meilleur modèle obtenu à l'epoch {best_epoch} avec accuracy = {best_accuracy:.4f}\")"
   ]
  },
  {
   "cell_type": "code",
   "execution_count": 10,
   "id": "8e5e41b1",
   "metadata": {},
   "outputs": [],
   "source": [
    "# Assurez-vous que votre DataLoader est correctement configuré\n",
    "transfert_augment_train_loader = DataLoader(augmentation_transfert_train, batch_size=32, shuffle=True)\n",
    "transfert_augment_test_loader = DataLoader(augmentation_transfert_test, batch_size=32, shuffle=False)"
   ]
  },
  {
   "cell_type": "code",
   "execution_count": 11,
   "id": "988dfe8e",
   "metadata": {},
   "outputs": [],
   "source": [
    "import torch\n",
    "import torch.nn as nn\n",
    "import torch.optim as optim\n",
    "from torchvision import models, transforms\n",
    "from torch.utils.data import DataLoader, Dataset\n",
    "from torchvision.datasets import ImageFolder\n",
    "\n",
    "# 📌 Charger VGG16 pré-entraîné\n",
    "device = torch.device(\"cuda\" if torch.cuda.is_available() else \"cpu\")\n",
    "model_transfert_augment = models.vgg16(pretrained=True)\n",
    "\n",
    "# 🔄 Modifier la dernière couche (10 classes)\n",
    "num_classes = 10\n",
    "model_transfert_augment.classifier[6] = nn.Linear(in_features=4096, out_features=num_classes)\n",
    "\n",
    "# ⚙️ Geler les couches convolutionnelles\n",
    "for param in model_transfert_augment.features.parameters():\n",
    "    param.requires_grad = False\n",
    "\n",
    "model_transfert_augment = model_transfert_augment.to(device)\n",
    "\n",
    "# 🎯 Définir la fonction de perte et l'optimiseur\n",
    "criterion = nn.CrossEntropyLoss()\n",
    "optimizer = optim.Adam(model_transfert_augment.classifier.parameters(), lr=0.0001)\n"
   ]
  },
  {
   "cell_type": "code",
   "execution_count": 12,
   "id": "cfa080b2",
   "metadata": {},
   "outputs": [
    {
     "name": "stderr",
     "output_type": "stream",
     "text": [
      "Epoch 1/20: 100%|██████████| 56/56 [00:15<00:00,  3.61batch/s, loss=0.565]\n"
     ]
    },
    {
     "name": "stdout",
     "output_type": "stream",
     "text": [
      "Epoch 1/20, Loss: 0.5654\n",
      "Validation Loss: 0.2545, Accuracy: 90.67%\n",
      "✅ Nouveau meilleur modèle sauvegardé à l'epoch 1 (accuracy = 90.6667)\n"
     ]
    },
    {
     "name": "stderr",
     "output_type": "stream",
     "text": [
      "Epoch 2/20: 100%|██████████| 56/56 [00:15<00:00,  3.62batch/s, loss=0.207]\n"
     ]
    },
    {
     "name": "stdout",
     "output_type": "stream",
     "text": [
      "Epoch 2/20, Loss: 0.2070\n",
      "Validation Loss: 0.2660, Accuracy: 90.00%\n"
     ]
    },
    {
     "name": "stderr",
     "output_type": "stream",
     "text": [
      "Epoch 3/20: 100%|██████████| 56/56 [00:15<00:00,  3.61batch/s, loss=0.133]\n"
     ]
    },
    {
     "name": "stdout",
     "output_type": "stream",
     "text": [
      "Epoch 3/20, Loss: 0.1327\n",
      "Validation Loss: 0.2565, Accuracy: 91.33%\n",
      "✅ Nouveau meilleur modèle sauvegardé à l'epoch 3 (accuracy = 91.3333)\n"
     ]
    },
    {
     "name": "stderr",
     "output_type": "stream",
     "text": [
      "Epoch 4/20: 100%|██████████| 56/56 [00:15<00:00,  3.61batch/s, loss=0.129] \n"
     ]
    },
    {
     "name": "stdout",
     "output_type": "stream",
     "text": [
      "Epoch 4/20, Loss: 0.1294\n",
      "Validation Loss: 0.2819, Accuracy: 91.33%\n"
     ]
    },
    {
     "name": "stderr",
     "output_type": "stream",
     "text": [
      "Epoch 5/20: 100%|██████████| 56/56 [00:15<00:00,  3.65batch/s, loss=0.103] \n"
     ]
    },
    {
     "name": "stdout",
     "output_type": "stream",
     "text": [
      "Epoch 5/20, Loss: 0.1034\n",
      "Validation Loss: 0.2413, Accuracy: 92.00%\n",
      "✅ Nouveau meilleur modèle sauvegardé à l'epoch 5 (accuracy = 92.0000)\n"
     ]
    },
    {
     "name": "stderr",
     "output_type": "stream",
     "text": [
      "Epoch 6/20: 100%|██████████| 56/56 [00:15<00:00,  3.60batch/s, loss=0.0747]\n"
     ]
    },
    {
     "name": "stdout",
     "output_type": "stream",
     "text": [
      "Epoch 6/20, Loss: 0.0747\n",
      "Validation Loss: 0.2790, Accuracy: 93.33%\n",
      "✅ Nouveau meilleur modèle sauvegardé à l'epoch 6 (accuracy = 93.3333)\n"
     ]
    },
    {
     "name": "stderr",
     "output_type": "stream",
     "text": [
      "Epoch 7/20: 100%|██████████| 56/56 [00:15<00:00,  3.54batch/s, loss=0.0618]\n"
     ]
    },
    {
     "name": "stdout",
     "output_type": "stream",
     "text": [
      "Epoch 7/20, Loss: 0.0618\n",
      "Validation Loss: 0.4210, Accuracy: 89.33%\n"
     ]
    },
    {
     "name": "stderr",
     "output_type": "stream",
     "text": [
      "Epoch 8/20: 100%|██████████| 56/56 [00:15<00:00,  3.64batch/s, loss=0.0792]\n"
     ]
    },
    {
     "name": "stdout",
     "output_type": "stream",
     "text": [
      "Epoch 8/20, Loss: 0.0792\n",
      "Validation Loss: 0.4256, Accuracy: 92.67%\n"
     ]
    },
    {
     "name": "stderr",
     "output_type": "stream",
     "text": [
      "Epoch 9/20: 100%|██████████| 56/56 [00:15<00:00,  3.61batch/s, loss=0.0561]\n"
     ]
    },
    {
     "name": "stdout",
     "output_type": "stream",
     "text": [
      "Epoch 9/20, Loss: 0.0561\n",
      "Validation Loss: 0.3869, Accuracy: 91.33%\n"
     ]
    },
    {
     "name": "stderr",
     "output_type": "stream",
     "text": [
      "Epoch 10/20: 100%|██████████| 56/56 [00:15<00:00,  3.64batch/s, loss=0.0444]\n"
     ]
    },
    {
     "name": "stdout",
     "output_type": "stream",
     "text": [
      "Epoch 10/20, Loss: 0.0444\n",
      "Validation Loss: 0.4450, Accuracy: 91.33%\n"
     ]
    },
    {
     "name": "stderr",
     "output_type": "stream",
     "text": [
      "Epoch 11/20: 100%|██████████| 56/56 [00:15<00:00,  3.64batch/s, loss=0.054] \n"
     ]
    },
    {
     "name": "stdout",
     "output_type": "stream",
     "text": [
      "Epoch 11/20, Loss: 0.0540\n",
      "Validation Loss: 0.5097, Accuracy: 92.00%\n"
     ]
    },
    {
     "name": "stderr",
     "output_type": "stream",
     "text": [
      "Epoch 12/20: 100%|██████████| 56/56 [00:15<00:00,  3.61batch/s, loss=0.0702]\n"
     ]
    },
    {
     "name": "stdout",
     "output_type": "stream",
     "text": [
      "Epoch 12/20, Loss: 0.0702\n",
      "Validation Loss: 0.3841, Accuracy: 90.67%\n"
     ]
    },
    {
     "name": "stderr",
     "output_type": "stream",
     "text": [
      "Epoch 13/20: 100%|██████████| 56/56 [00:15<00:00,  3.62batch/s, loss=0.0491]\n"
     ]
    },
    {
     "name": "stdout",
     "output_type": "stream",
     "text": [
      "Epoch 13/20, Loss: 0.0491\n",
      "Validation Loss: 0.3796, Accuracy: 92.00%\n"
     ]
    },
    {
     "name": "stderr",
     "output_type": "stream",
     "text": [
      "Epoch 14/20: 100%|██████████| 56/56 [00:15<00:00,  3.64batch/s, loss=0.0595]\n"
     ]
    },
    {
     "name": "stdout",
     "output_type": "stream",
     "text": [
      "Epoch 14/20, Loss: 0.0595\n",
      "Validation Loss: 0.4163, Accuracy: 94.00%\n",
      "✅ Nouveau meilleur modèle sauvegardé à l'epoch 14 (accuracy = 94.0000)\n"
     ]
    },
    {
     "name": "stderr",
     "output_type": "stream",
     "text": [
      "Epoch 15/20: 100%|██████████| 56/56 [00:15<00:00,  3.61batch/s, loss=0.0468]\n"
     ]
    },
    {
     "name": "stdout",
     "output_type": "stream",
     "text": [
      "Epoch 15/20, Loss: 0.0468\n",
      "Validation Loss: 0.3936, Accuracy: 90.00%\n"
     ]
    },
    {
     "name": "stderr",
     "output_type": "stream",
     "text": [
      "Epoch 16/20: 100%|██████████| 56/56 [00:15<00:00,  3.61batch/s, loss=0.0431]\n"
     ]
    },
    {
     "name": "stdout",
     "output_type": "stream",
     "text": [
      "Epoch 16/20, Loss: 0.0431\n",
      "Validation Loss: 0.4695, Accuracy: 92.00%\n"
     ]
    },
    {
     "name": "stderr",
     "output_type": "stream",
     "text": [
      "Epoch 17/20: 100%|██████████| 56/56 [00:15<00:00,  3.63batch/s, loss=0.0467]\n"
     ]
    },
    {
     "name": "stdout",
     "output_type": "stream",
     "text": [
      "Epoch 17/20, Loss: 0.0467\n",
      "Validation Loss: 0.3933, Accuracy: 92.67%\n"
     ]
    },
    {
     "name": "stderr",
     "output_type": "stream",
     "text": [
      "Epoch 18/20: 100%|██████████| 56/56 [00:15<00:00,  3.61batch/s, loss=0.034] \n"
     ]
    },
    {
     "name": "stdout",
     "output_type": "stream",
     "text": [
      "Epoch 18/20, Loss: 0.0340\n",
      "Validation Loss: 0.4707, Accuracy: 91.33%\n"
     ]
    },
    {
     "name": "stderr",
     "output_type": "stream",
     "text": [
      "Epoch 19/20: 100%|██████████| 56/56 [00:15<00:00,  3.61batch/s, loss=0.0337] \n"
     ]
    },
    {
     "name": "stdout",
     "output_type": "stream",
     "text": [
      "Epoch 19/20, Loss: 0.0337\n",
      "Validation Loss: 0.4484, Accuracy: 91.33%\n"
     ]
    },
    {
     "name": "stderr",
     "output_type": "stream",
     "text": [
      "Epoch 20/20: 100%|██████████| 56/56 [00:15<00:00,  3.60batch/s, loss=0.0246]\n"
     ]
    },
    {
     "name": "stdout",
     "output_type": "stream",
     "text": [
      "Epoch 20/20, Loss: 0.0246\n",
      "Validation Loss: 0.5314, Accuracy: 92.00%\n",
      "\n",
      "✅ Meilleur modèle obtenu à l'epoch 14 avec accuracy = 94.0000\n"
     ]
    }
   ],
   "source": [
    "# 🚀 Entraînement du modèle\n",
    "num_epochs = 20\n",
    "\n",
    "# Dossier de sauvegarde\n",
    "checkpoint_dir = \"./checkpoints\"\n",
    "os.makedirs(checkpoint_dir, exist_ok=True)\n",
    "\n",
    "# Initialisation\n",
    "best_accuracy = -float('inf')  # ou float('inf') pour suivre la loss\n",
    "best_epoch = -1\n",
    "\n",
    "\n",
    "for epoch in range(num_epochs):\n",
    "    model_transfert_augment.train()\n",
    "    train_loss = 0.0\n",
    "\n",
    "    with tqdm(transfert_augment_train_loader, desc=f\"Epoch {epoch+1}/{num_epochs}\", unit=\"batch\") as tepoch:\n",
    "      for inputs, labels in tepoch:\n",
    "        inputs = inputs.to(device)\n",
    "        labels = labels.to(device) if isinstance(labels, torch.Tensor) else torch.tensor(labels, dtype=torch.long, device=device)\n",
    "\n",
    "        optimizer.zero_grad()  # Remet à zéro les gradients de l'optimiseur\n",
    "\n",
    "        outputs = model_transfert_augment(inputs)\n",
    "        loss = criterion(outputs, labels)\n",
    "        loss.backward()\n",
    "        optimizer.step()\n",
    "\n",
    "        train_loss += loss.item()\n",
    "        _, predicted = outputs.max(1)\n",
    "        tepoch.set_postfix(loss=train_loss / (tepoch.n + 1))\n",
    "\n",
    "    print(f\"Epoch {epoch+1}/{num_epochs}, Loss: {train_loss/len(transfert_augment_train_loader):.4f}\")\n",
    "\n",
    "    # 🔎 Évaluation\n",
    "    model_transfert_augment.eval()\n",
    "    val_loss = 0.0\n",
    "    correct = 0\n",
    "    total = 0\n",
    "\n",
    "    with torch.no_grad():\n",
    "        for inputs, labels in transfert_augment_test_loader:\n",
    "          inputs = inputs.to(device)\n",
    "          labels = labels.to(device) if isinstance(labels, torch.Tensor) else torch.tensor(labels, dtype=torch.long, device=device)\n",
    "\n",
    "          outputs = model_transfert_augment(inputs)\n",
    "          loss = criterion(outputs, labels)\n",
    "\n",
    "          val_loss += loss.item()\n",
    "          _, predicted = outputs.max(1)\n",
    "          correct += (predicted == labels).sum().item()\n",
    "          total += labels.size(0)\n",
    "\n",
    "    val_accuracy = 100 * correct / total\n",
    "    print(f\"Validation Loss: {val_loss / len(transfert_augment_test_loader):.4f}, Accuracy: {val_accuracy:.2f}%\")\n",
    "\n",
    "    # Sauvegarde si le modèle est meilleur\n",
    "    if val_accuracy > best_accuracy:\n",
    "        best_accuracy = val_accuracy\n",
    "        best_epoch = epoch + 1\n",
    "\n",
    "        torch.save(model_transfert_augment.state_dict(), os.path.join(checkpoint_dir, \"best_model_transfert_augment.pth\"))\n",
    "        print(f\"✅ Nouveau meilleur modèle sauvegardé à l'epoch {best_epoch} (accuracy = {best_accuracy:.4f})\")\n",
    "\n",
    "# Info finale\n",
    "print(f\"\\n✅ Meilleur modèle obtenu à l'epoch {best_epoch} avec accuracy = {best_accuracy:.4f}\")"
   ]
  }
 ],
 "metadata": {
  "kernelspec": {
   "display_name": "pytorch",
   "language": "python",
   "name": "python3"
  },
  "language_info": {
   "codemirror_mode": {
    "name": "ipython",
    "version": 3
   },
   "file_extension": ".py",
   "mimetype": "text/x-python",
   "name": "python",
   "nbconvert_exporter": "python",
   "pygments_lexer": "ipython3",
   "version": "3.11.11"
  }
 },
 "nbformat": 4,
 "nbformat_minor": 5
}
